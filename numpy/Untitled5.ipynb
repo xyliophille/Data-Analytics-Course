{
 "cells": [
  {
   "cell_type": "code",
   "execution_count": 10,
   "id": "e2ed31db-87fc-4a01-a91a-41146dbf26fc",
   "metadata": {},
   "outputs": [
    {
     "name": "stdout",
     "output_type": "stream",
     "text": [
      "176.0\n",
      "179.0\n",
      "200\n",
      "29.017236257093817\n",
      "842.0\n"
     ]
    }
   ],
   "source": [
    "import numpy as np\n",
    "import statistics as stats\n",
    "\n",
    "# statistical functions in numpy\n",
    "\n",
    "\n",
    "baked_food= [200,150,150,130,200,220,170,188]\n",
    "a=np.array(baked_food)\n",
    "print(np.mean(baked_food))\n",
    "print(np.median(baked_food)) # central element- 188 and 200, central value after sorting\n",
    "print(stats.mode(baked_food)) #importing should be done first\n",
    "print(np.std(baked_food)) #standard deviation\n",
    "print(np.var(baked_food)) #variance\n"
   ]
  },
  {
   "cell_type": "code",
   "execution_count": null,
   "id": "72426980-26be-4582-83b5-5072e753c317",
   "metadata": {},
   "outputs": [],
   "source": [
    "# 130,150,170,188,200,200,280,300 , central element- 188 and 200"
   ]
  },
  {
   "cell_type": "code",
   "execution_count": 3,
   "id": "68d3e7e4-3733-4546-8749-aa90cf81f516",
   "metadata": {},
   "outputs": [
    {
     "name": "stdout",
     "output_type": "stream",
     "text": [
      "[[1.         0.99015454]\n",
      " [0.99015454 1.        ]]\n"
     ]
    }
   ],
   "source": [
    "#  -1 represents inversely  proportional relationship\n",
    "#  1 represents proportional  relationship\n",
    "#  0 means no relationship\n",
    "\n",
    "\n",
    "\n",
    "import numpy as np\n",
    "tobacco_consumption = [30,50,10,30,50,40]\n",
    "deaths= [100,120,70,100,120,112]\n",
    "print(np.corrcoef([tobacco_consumption,deaths]))\n"
   ]
  },
  {
   "cell_type": "code",
   "execution_count": 4,
   "id": "06204ae6-82a9-49f2-89c7-08b7a04a9caa",
   "metadata": {},
   "outputs": [
    {
     "name": "stdout",
     "output_type": "stream",
     "text": [
      "[[ 1.         -0.66621445]\n",
      " [-0.66621445  1.        ]]\n"
     ]
    }
   ],
   "source": [
    "price=[300,100,350,150,200]\n",
    "sales= [10,20,7,17,3]\n",
    "\n",
    "print(np.corrcoef([price,sales]))  # negative relationship (price inverse of sale)\n"
   ]
  }
 ],
 "metadata": {
  "kernelspec": {
   "display_name": "Python 3 (ipykernel)",
   "language": "python",
   "name": "python3"
  },
  "language_info": {
   "codemirror_mode": {
    "name": "ipython",
    "version": 3
   },
   "file_extension": ".py",
   "mimetype": "text/x-python",
   "name": "python",
   "nbconvert_exporter": "python",
   "pygments_lexer": "ipython3",
   "version": "3.13.5"
  }
 },
 "nbformat": 4,
 "nbformat_minor": 5
}
