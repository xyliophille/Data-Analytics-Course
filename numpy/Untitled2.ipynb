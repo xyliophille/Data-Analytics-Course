{
 "cells": [
  {
   "cell_type": "code",
   "execution_count": 1,
   "id": "556bf3ff-84a5-4a96-a715-36c4a59a34a3",
   "metadata": {},
   "outputs": [
    {
     "name": "stdout",
     "output_type": "stream",
     "text": [
      "[30, 40, 50, 5, 5, 3]\n"
     ]
    }
   ],
   "source": [
    "a=[30,40,50]\n",
    "b=[5,5,3]\n",
    "print(a+b)"
   ]
  },
  {
   "cell_type": "code",
   "execution_count": 14,
   "id": "30c64c78-3a0e-4cda-b517-ce5dc3803d92",
   "metadata": {},
   "outputs": [
    {
     "name": "stdout",
     "output_type": "stream",
     "text": [
      "[[30 40]\n",
      " [56 50]\n",
      " [ 5  5]\n",
      " [ 2  3]]\n"
     ]
    }
   ],
   "source": [
    "# concatenate\n",
    "\n",
    "import numpy as np\n",
    "arr1 = np.array([[30,40],[56,50]])\n",
    "arr2 = np.array([[5,5],[2,3]])\n",
    "print(np.concatenate([arr1,arr2]))"
   ]
  },
  {
   "cell_type": "code",
   "execution_count": 18,
   "id": "f0e5efb4-3230-460b-b91d-a638be8c6c52",
   "metadata": {},
   "outputs": [
    {
     "name": "stdout",
     "output_type": "stream",
     "text": [
      "[[30 40]\n",
      " [56 50]\n",
      " [ 5  5]\n",
      " [ 2  3]]\n"
     ]
    }
   ],
   "source": [
    "print(np.concatenate([arr1,arr2],axis = 0)) #0=1-d dimension and 1= 2-d dimension\n",
    "# axis=1 for  horizontal concatenation and axis=0 for vertical concatenation"
   ]
  },
  {
   "cell_type": "code",
   "execution_count": 16,
   "id": "99223e31-49f5-4837-a218-8e7e3b532b1c",
   "metadata": {},
   "outputs": [
    {
     "name": "stdout",
     "output_type": "stream",
     "text": [
      "[[30 40  5  5]\n",
      " [56 50  2  3]]\n"
     ]
    }
   ],
   "source": [
    "print(np.hstack([arr1,arr2])) # horizontal concatenation"
   ]
  },
  {
   "cell_type": "code",
   "execution_count": 17,
   "id": "9079f0d6-1817-47aa-9021-a5e949ac8bb1",
   "metadata": {},
   "outputs": [
    {
     "name": "stdout",
     "output_type": "stream",
     "text": [
      "[[30 40]\n",
      " [56 50]\n",
      " [ 5  5]\n",
      " [ 2  3]]\n"
     ]
    }
   ],
   "source": [
    "print(np.vstack([arr1,arr2]))  # vertical concatenation"
   ]
  },
  {
   "cell_type": "code",
   "execution_count": 30,
   "id": "c9b261c8-bf6b-4401-b961-276ba6fd58ea",
   "metadata": {},
   "outputs": [
    {
     "name": "stdout",
     "output_type": "stream",
     "text": [
      "[array([20, 30]), array([40]), array([50]), array([43])]\n"
     ]
    }
   ],
   "source": [
    "a= np.array([20,30,40,50,43])\n",
    "print(np.array_split(a,4))  # a,4 means 4 part me split hoga\n"
   ]
  },
  {
   "cell_type": "code",
   "execution_count": 67,
   "id": "8e049132-f40f-47a9-be3e-8fdec920e429",
   "metadata": {},
   "outputs": [
    {
     "name": "stdout",
     "output_type": "stream",
     "text": [
      "[40 56]\n"
     ]
    }
   ],
   "source": [
    "a= np.array([20,30,40,56,50,43])\n",
    "b=np.array_split(a,3)\n",
    "print(b[1])"
   ]
  },
  {
   "cell_type": "code",
   "execution_count": 71,
   "id": "ae1ec5da-5ea7-49be-8700-22e60cf89f62",
   "metadata": {},
   "outputs": [
    {
     "name": "stdout",
     "output_type": "stream",
     "text": [
      "[array([[20, 30, 40]]), array([[56, 50, 43]]), array([], shape=(0, 3), dtype=int64), array([], shape=(0, 3), dtype=int64)]\n"
     ]
    }
   ],
   "source": [
    "\n",
    "c= np.array([[20,30,40],[56,50,43]])\n",
    "print(np.array_split(c,4))\n"
   ]
  },
  {
   "cell_type": "code",
   "execution_count": 104,
   "id": "7035e781-fb34-400c-bbd2-e3aa9b6dd163",
   "metadata": {},
   "outputs": [
    {
     "name": "stdout",
     "output_type": "stream",
     "text": [
      "[20 30 40 56 50 43 90]\n"
     ]
    }
   ],
   "source": [
    "import numpy as np\n",
    "\n",
    "arr1 = np.array([[30,40],[56,50]])\n",
    "# print(np.append(a,90))\n",
    "# print(np.append(a,[90,100]))\n",
    "\n"
   ]
  },
  {
   "cell_type": "code",
   "execution_count": 94,
   "id": "73401e50-210b-4213-9183-626a34d66319",
   "metadata": {},
   "outputs": [
    {
     "name": "stdout",
     "output_type": "stream",
     "text": [
      "[20 50 60 30 40 56 50 43]\n",
      "[20 50 30 40 56 50 43]\n"
     ]
    }
   ],
   "source": [
    "# print(np.insert(a,1,50))\n",
    "print(np.insert(a,1,[50,60],axis = 0))\n",
    "print(np.insert(a,1,[50],axis = 0))   "
   ]
  },
  {
   "cell_type": "code",
   "execution_count": 98,
   "id": "ca8db7e5-49b1-42ad-a5fb-c42a3df0709c",
   "metadata": {},
   "outputs": [
    {
     "name": "stdout",
     "output_type": "stream",
     "text": [
      "[[20 50 30 40]\n",
      " [56 60 50 43]]\n",
      "[[20 30 40]\n",
      " [50 50 50]\n",
      " [56 50 43]\n",
      " [50 50 50]]\n"
     ]
    }
   ],
   "source": [
    "# print(np.insert(c,1,50))\n",
    "print(np.insert(c,1,[50,60],axis = 1))\n",
    "print(np.insert(c,[1,2],[50],axis = 0))\n"
   ]
  },
  {
   "cell_type": "code",
   "execution_count": 109,
   "id": "0ea38420-e6c9-4f6b-91ca-0c2b48235055",
   "metadata": {},
   "outputs": [
    {
     "name": "stdout",
     "output_type": "stream",
     "text": [
      "[20 40 56 50 43]\n"
     ]
    }
   ],
   "source": [
    "# n=np.array([[20,4,5],[62,569,5]])\n",
    "print(np.delete(a,1))\n",
    "# print(np.delete(c,1,axis=1))"
   ]
  },
  {
   "cell_type": "code",
   "execution_count": null,
   "id": "2a0b4955-7a4c-4bcd-bf85-02c82eaf512f",
   "metadata": {},
   "outputs": [],
   "source": []
  }
 ],
 "metadata": {
  "kernelspec": {
   "display_name": "Python 3 (ipykernel)",
   "language": "python",
   "name": "python3"
  },
  "language_info": {
   "codemirror_mode": {
    "name": "ipython",
    "version": 3
   },
   "file_extension": ".py",
   "mimetype": "text/x-python",
   "name": "python",
   "nbconvert_exporter": "python",
   "pygments_lexer": "ipython3",
   "version": "3.13.5"
  }
 },
 "nbformat": 4,
 "nbformat_minor": 5
}
