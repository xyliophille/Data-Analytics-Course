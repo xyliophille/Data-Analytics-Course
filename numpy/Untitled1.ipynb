{
 "cells": [
  {
   "cell_type": "code",
   "execution_count": 8,
   "id": "64844dd4-ffac-4cc1-ac44-df018cf8b0f0",
   "metadata": {},
   "outputs": [
    {
     "name": "stdout",
     "output_type": "stream",
     "text": [
      "[[30 40 50]\n",
      " [60 70 80]]\n",
      "(2, 3)\n",
      "2\n",
      "6\n",
      "int64\n",
      "[['30' '40' '50']\n",
      " ['60' '70' '80']]\n"
     ]
    }
   ],
   "source": [
    "import numpy as np\n",
    "a=[[30,40,50],[60,70,80]]\n",
    "arr= np.array(a)\n",
    "print(arr)\n",
    "# functions:-\n",
    "print(arr.shape)\n",
    "print(len(arr))\n",
    "print(np.size(arr))\n",
    "print(arr.dtype) #data type of array\n",
    "print(arr.astype(str)) #can convert float to int but not strung to int or float"
   ]
  },
  {
   "cell_type": "code",
   "execution_count": 3,
   "id": "0092decc-84c5-4b05-9759-efd5a3482303",
   "metadata": {},
   "outputs": [
    {
     "name": "stdout",
     "output_type": "stream",
     "text": [
      "[[110  90]\n",
      " [120 160]]\n",
      "[[110  90]\n",
      " [120 160]]\n"
     ]
    }
   ],
   "source": [
    "import  numpy as np\n",
    "\n",
    "arr1=np.array([[30,40],[60,70]])\n",
    "arr2=np.array([[80,50],[60,90]])\n",
    "print(arr1+arr2)\n",
    "print(np.add(arr1,arr2)) #we can also do this also , to find the calculation.\n",
    "\n",
    "\n"
   ]
  },
  {
   "cell_type": "code",
   "execution_count": 4,
   "id": "66e07584-b8ef-4e1c-a781-8f39b57f701e",
   "metadata": {},
   "outputs": [
    {
     "name": "stdout",
     "output_type": "stream",
     "text": [
      "[[2400 2000]\n",
      " [3600 6300]]\n",
      "[[2400 2000]\n",
      " [3600 6300]]\n"
     ]
    }
   ],
   "source": [
    "import  numpy as np\n",
    "\n",
    "arr1=np.array([[30,40],[60,70]])\n",
    "arr2=np.array([[80,50],[60,90]])\n",
    "print(arr1*arr2)\n",
    "print(np.multiply(arr1,arr2)) #we can also do this also , to find the calculation.\n"
   ]
  },
  {
   "cell_type": "code",
   "execution_count": 5,
   "id": "330a5e48-6bf3-46b3-a83b-7767223a7755",
   "metadata": {},
   "outputs": [
    {
     "name": "stdout",
     "output_type": "stream",
     "text": [
      "[ 27  64 125 216]\n"
     ]
    }
   ],
   "source": [
    "arr1=np.array([3,4,5,6])\n",
    "arr2=np.array([3])\n",
    "print(np.power(arr1,arr2))"
   ]
  }
 ],
 "metadata": {
  "kernelspec": {
   "display_name": "Python 3",
   "language": "python",
   "name": "python3"
  },
  "language_info": {
   "codemirror_mode": {
    "name": "ipython",
    "version": 3
   },
   "file_extension": ".py",
   "mimetype": "text/x-python",
   "name": "python",
   "nbconvert_exporter": "python",
   "pygments_lexer": "ipython3",
   "version": "3.13.5"
  }
 },
 "nbformat": 4,
 "nbformat_minor": 5
}
