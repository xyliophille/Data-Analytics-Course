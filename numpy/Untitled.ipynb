{
 "cells": [
  {
   "cell_type": "code",
   "execution_count": 19,
   "id": "b2eb610c-f5ba-4e08-8eb6-e05d3e1aad59",
   "metadata": {},
   "outputs": [
    {
     "name": "stdout",
     "output_type": "stream",
     "text": [
      "[[10 20 30 40]\n",
      " [50 60 70 80]\n",
      " [50 60 70 80]]\n",
      "<class 'numpy.ndarray'>\n"
     ]
    }
   ],
   "source": [
    "import numpy as np\n",
    "# creating arrays:-\n",
    "arr= np.array([[10,20,30,40],[50,60,70,80],[50,60,70,80]])\n",
    "print(arr)\n",
    "print(type(arr))"
   ]
  },
  {
   "cell_type": "code",
   "execution_count": null,
   "id": "82b94721-d887-4fbf-8637-e18091d4c9d3",
   "metadata": {},
   "outputs": [
    {
     "name": "stdout",
     "output_type": "stream",
     "text": [
      "[20 30]\n",
      "[70 80]\n",
      "70\n"
     ]
    }
   ],
   "source": [
    "import numpy as np\n",
    "# slicing:-\n",
    "arr= np.array([[10,20,30,40],[50,60,70,80],[50,60,70,80]])\n",
    "# for single elements set\n",
    "# print(arr[0:3])\n",
    "# print(arr[0:])\n",
    "# print(arr[3:])\n",
    "# print(arr[2:])\n",
    "# print(arr[:3])\n",
    "\n",
    "# for two elements set\n",
    "# print(arr[0:2,0:]) \n",
    "# its output will be of 4 elements of both set , because it will have to show equal \n",
    "# number of elements in both the set.\n",
    "# if I want index 1 elements and index 2 elements:\n",
    "# print(arr[0,1:3]) \n",
    "# print(arr[1,2:4]) \n",
    "# print(arr[2,2]) \n",
    "\n",
    "\n",
    "\n",
    "\n",
    "\n",
    "\n"
   ]
  },
  {
   "cell_type": "code",
   "execution_count": 21,
   "id": "27f74de4-e751-430b-93f9-4e74050d7ece",
   "metadata": {},
   "outputs": [
    {
     "name": "stdout",
     "output_type": "stream",
     "text": [
      "(3, 4)\n",
      "12\n",
      "2\n",
      "int64\n"
     ]
    }
   ],
   "source": [
    "import numpy as np\n",
    "# attributes of array:\n",
    "arr= np.array([[10,20,30,40],[50,60,70,80],[50,60,70,80]])\n",
    "print(np.shape(arr))\n",
    "# output is - (3, 4) , it means 3 rows and 4 columns \n",
    "print(np.size(arr))\n",
    "# output is - 12\n",
    "print(np.ndim(arr))\n",
    "# output is - 2 , i.e rows and columns\n",
    "print (arr.dtype)\n",
    "# output is - int64\n"
   ]
  },
  {
   "cell_type": "code",
   "execution_count": null,
   "id": "e5a75d6e-75ed-4667-9d62-7f4838083380",
   "metadata": {},
   "outputs": [],
   "source": []
  }
 ],
 "metadata": {
  "kernelspec": {
   "display_name": "Python 3",
   "language": "python",
   "name": "python3"
  },
  "language_info": {
   "codemirror_mode": {
    "name": "ipython",
    "version": 3
   },
   "file_extension": ".py",
   "mimetype": "text/x-python",
   "name": "python",
   "nbconvert_exporter": "python",
   "pygments_lexer": "ipython3",
   "version": "3.13.5"
  }
 },
 "nbformat": 4,
 "nbformat_minor": 5
}
