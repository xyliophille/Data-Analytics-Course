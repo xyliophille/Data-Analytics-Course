{
 "cells": [
  {
   "cell_type": "code",
   "execution_count": 1,
   "id": "2e915ae8-f1c5-4e14-9de4-eb139d7d305b",
   "metadata": {},
   "outputs": [
    {
     "name": "stdout",
     "output_type": "stream",
     "text": [
      "[2 3 4 5 5 7 8]\n"
     ]
    }
   ],
   "source": [
    "import numpy as np\n",
    "\n",
    "# ar=np.array([4,5,2,7,8,3,5])\n",
    "# print(np.sort(ar))\n"
   ]
  },
  {
   "cell_type": "code",
   "execution_count": 3,
   "id": "b1387234-3694-4b07-a753-d8daf3d2614e",
   "metadata": {},
   "outputs": [
    {
     "name": "stdout",
     "output_type": "stream",
     "text": [
      "[[2 3 4 5 5 7 8]\n",
      " [2 3 4 5 6 7 8]]\n"
     ]
    }
   ],
   "source": [
    "# ar=np.array([[4,5,2,7,8,3,5],[3,4,2,6,8,5,7]])\n",
    "# print(np.sort(ar))"
   ]
  },
  {
   "cell_type": "code",
   "execution_count": 19,
   "id": "2ae83e25-233e-4d24-8d70-5b696ab349a5",
   "metadata": {},
   "outputs": [
    {
     "name": "stdout",
     "output_type": "stream",
     "text": [
      "4\n"
     ]
    }
   ],
   "source": [
    "ar=np.array([4,5,2,7])\n",
    "# s= np.where(ar == 4)\n",
    "s= np.where(ar % 2==0)\n",
    "print(s)"
   ]
  },
  {
   "cell_type": "code",
   "execution_count": 27,
   "id": "8ce192cc-3bc0-469c-9fe5-7ec8f20246e8",
   "metadata": {},
   "outputs": [
    {
     "name": "stdout",
     "output_type": "stream",
     "text": [
      "3\n"
     ]
    }
   ],
   "source": [
    "# searchsorted -- array must be sorted\n",
    "\n",
    "ar=np.array([2,3,4,9,10])\n",
    "ss= np.searchsorted(ar,9)\n",
    "print(ss)\n"
   ]
  },
  {
   "cell_type": "code",
   "execution_count": 29,
   "id": "6e08cc94-ad9d-4863-8904-cfc5e5b9447a",
   "metadata": {},
   "outputs": [
    {
     "name": "stdout",
     "output_type": "stream",
     "text": [
      "[2]\n"
     ]
    }
   ],
   "source": [
    "# filter\n",
    "\n",
    "import numpy as np\n",
    "ar=np.array([2,3,4,5])\n",
    "# -- finding the even number - method-1\n",
    "# fa=[True, False,True,False] \n",
    "fa=[True, False,False,False]\n",
    "\n",
    "new= ar[fa]\n",
    "print(new)"
   ]
  },
  {
   "cell_type": "code",
   "execution_count": 32,
   "id": "a8f03f43-e0a6-465c-96b6-4c9e286c7192",
   "metadata": {},
   "outputs": [
    {
     "name": "stdout",
     "output_type": "stream",
     "text": [
      "[ 2 40]\n"
     ]
    }
   ],
   "source": [
    "# -- finding the even number - method-2\n",
    "\n",
    "ar=np.array([2,3,40,5])\n",
    "# fa= ar>35\n",
    "fa= ar%2==0\n",
    "new=ar[fa]\n",
    "print(new)"
   ]
  }
 ],
 "metadata": {
  "kernelspec": {
   "display_name": "Python 3 (ipykernel)",
   "language": "python",
   "name": "python3"
  },
  "language_info": {
   "codemirror_mode": {
    "name": "ipython",
    "version": 3
   },
   "file_extension": ".py",
   "mimetype": "text/x-python",
   "name": "python",
   "nbconvert_exporter": "python",
   "pygments_lexer": "ipython3",
   "version": "3.13.5"
  }
 },
 "nbformat": 4,
 "nbformat_minor": 5
}
