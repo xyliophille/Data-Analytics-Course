{
 "cells": [
  {
   "cell_type": "code",
   "execution_count": 32,
   "id": "24b4800b-0eee-4e24-8443-32d12082d558",
   "metadata": {},
   "outputs": [
    {
     "name": "stdout",
     "output_type": "stream",
     "text": [
      "190\n",
      "20\n",
      "70\n",
      "4\n",
      "47.5\n",
      "[ 20  60 120 190]\n",
      "[     20     800   48000 3360000]\n"
     ]
    }
   ],
   "source": [
    "# Aggregate functions in numpy\n",
    "\n",
    "import numpy as np\n",
    "\n",
    "a=np.array([20,40,60,70])\n",
    "print (np.sum(a))\n",
    "print (np.min(a))\n",
    "print (np.max(a))\n",
    "print (np.size(a))\n",
    "print (np.mean(a))\n",
    "print (np.cumsum(a)) #adding each element and writing it consecutively (cumulative sum)\n",
    "print (np.cumprod(a))\n",
    "\n",
    "\n"
   ]
  },
  {
   "cell_type": "code",
   "execution_count": 28,
   "id": "2cc81335-6832-4aa9-8ef3-8b57b5f166cf",
   "metadata": {},
   "outputs": [
    {
     "name": "stdout",
     "output_type": "stream",
     "text": [
      "[100 150 199 200 250 130] \n",
      " [10 50 30 40 30 10]\n",
      "\n",
      "31270\n"
     ]
    }
   ],
   "source": [
    "a=[100,150,199,200,250,130]\n",
    "b=[10,50,30,40,30,10]\n",
    "\n",
    "price= np.array(a)\n",
    "quantity=np.array(b)\n",
    "\n",
    "# print(price,quantity)\n",
    "print(price,\"\\n\",quantity)\n",
    "print()\n",
    "\n",
    "\n",
    "c=np.cumprod([price,quantity],axis=0) #price*quantity\n",
    "# print(c)\n",
    "print((c[1]).sum())\n",
    "\n",
    "\n",
    "# c=np.cumprod([price,quantity],axis=1) #price*quantity\n",
    "# print(c)\n",
    "\n",
    "\n",
    "\n",
    "\n",
    "\n",
    "\n"
   ]
  }
 ],
 "metadata": {
  "kernelspec": {
   "display_name": "Python 3 (ipykernel)",
   "language": "python",
   "name": "python3"
  },
  "language_info": {
   "codemirror_mode": {
    "name": "ipython",
    "version": 3
   },
   "file_extension": ".py",
   "mimetype": "text/x-python",
   "name": "python",
   "nbconvert_exporter": "python",
   "pygments_lexer": "ipython3",
   "version": "3.13.5"
  }
 },
 "nbformat": 4,
 "nbformat_minor": 5
}
