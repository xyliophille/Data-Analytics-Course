{
 "cells": [
  {
   "cell_type": "code",
   "execution_count": null,
   "id": "fe0a8b97-b4fa-4c51-90d1-46dac7d4ecb9",
   "metadata": {},
   "outputs": [],
   "source": [
    "# Exploring Data in Pandas\n",
    "import pandas as pd\n",
    "\n",
    "data= pd.read_excel(\"expense.xlsx\")\n",
    "# print(data)\n",
    "\n",
    "# when the data value if very large, like 1000\n",
    "pritnt(data.head(10)) #give the first 10 values of data\n",
    "pritnt(data.tail(10)) #give the last 10 values of data\n",
    "\n",
    "# on finding the data type of each value\n",
    "print(data.info())\n",
    "\n",
    "data.describe() #tells the count, mean , std , min, 25% , 50%, 75% max of our data.\n",
    "\n",
    "# to find the no. of null values in data.\n",
    "print(data.isnull().sum()) # works only on numerical values"
   ]
  }
 ],
 "metadata": {
  "kernelspec": {
   "display_name": "Python 3 (ipykernel)",
   "language": "python",
   "name": "python3"
  },
  "language_info": {
   "codemirror_mode": {
    "name": "ipython",
    "version": 3
   },
   "file_extension": ".py",
   "mimetype": "text/x-python",
   "name": "python",
   "nbconvert_exporter": "python",
   "pygments_lexer": "ipython3",
   "version": "3.13.5"
  }
 },
 "nbformat": 4,
 "nbformat_minor": 5
}
