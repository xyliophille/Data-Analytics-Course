{
 "cells": [
  {
   "cell_type": "code",
   "execution_count": 2,
   "id": "5e8b584a-30d5-4d3b-8382-2584bbfb87ee",
   "metadata": {},
   "outputs": [
    {
     "name": "stdout",
     "output_type": "stream",
     "text": [
      "  emp id   names  age\n",
      "0    E01     ram   34\n",
      "1    E02   shyam   56\n",
      "2    E03   rahul   23\n",
      "3    E04  cishal   44\n",
      "4    E05    ravi   32\n",
      "5    E06    john   59\n",
      "\n",
      "  emp id  salary\n",
      "0    E01   45000\n",
      "1    E07   56000\n",
      "2    E03   34000\n",
      "3    E04   30000\n",
      "4    E08   50000\n",
      "5    E06   62000\n"
     ]
    }
   ],
   "source": [
    "# import pandas as pd\n",
    "# # merge , join and concatenate in pandas\n",
    "# data1 = {\"emp id\": [\"E01\", \"E02\", \"E03\", \"E04\", \"E05\", \"E06\"],\n",
    "#          \"names\": [\"ram\", \"shyam\", \"rahul\", \"cishal\", \"ravi\", \"john\"],\n",
    "#          \"age\": [34, 56, 23, 44, 32,59]}\n",
    "\n",
    "\n",
    "\n",
    "# data2 = {\"emp id\": [\"E01\", \"E07\", \"E03\", \"E04\", \"E08\", \"E06\"],\n",
    "#          \"salary\": [45000, 56000, 34000, 30000, 50000, 62000]}\n",
    "\n",
    "# df1=pd.DataFrame(data1)\n",
    "# df2=pd.DataFrame(data2)\n",
    "\n",
    "# print(df1)\n",
    "# print()\n",
    "# print(df2)"
   ]
  },
  {
   "cell_type": "code",
   "execution_count": 3,
   "id": "b5284a6b-ff58-480b-a35e-e461aadbdf9a",
   "metadata": {},
   "outputs": [
    {
     "name": "stdout",
     "output_type": "stream",
     "text": [
      "  emp id   names  age  salary\n",
      "0    E01     ram   34   45000\n",
      "1    E03   rahul   23   34000\n",
      "2    E04  cishal   44   30000\n",
      "3    E06    john   59   62000\n"
     ]
    }
   ],
   "source": [
    "print(pd.merge(df1,df2,on=\"emp id\")) # merge takes place with those columns only , which is common to both the df."
   ]
  },
  {
   "cell_type": "code",
   "execution_count": 4,
   "id": "86cccfba-1e2a-4b94-9210-173571d94f22",
   "metadata": {},
   "outputs": [
    {
     "name": "stdout",
     "output_type": "stream",
     "text": [
      "  emp id   names  age  salary\n",
      "0    E01     ram   34   45000\n",
      "1    E03   rahul   23   34000\n",
      "2    E04  cishal   44   30000\n",
      "3    E06    john   59   62000\n"
     ]
    }
   ],
   "source": [
    "print(pd.merge(df1,df2,on=\"emp id\",how=\"inner\"))"
   ]
  },
  {
   "cell_type": "code",
   "execution_count": 5,
   "id": "94ca82a7-0904-4a5c-afb0-33a9c9510c33",
   "metadata": {},
   "outputs": [
    {
     "name": "stdout",
     "output_type": "stream",
     "text": [
      "  emp id   names  age   salary\n",
      "0    E01     ram   34  45000.0\n",
      "1    E02   shyam   56      NaN\n",
      "2    E03   rahul   23  34000.0\n",
      "3    E04  cishal   44  30000.0\n",
      "4    E05    ravi   32      NaN\n",
      "5    E06    john   59  62000.0\n"
     ]
    }
   ],
   "source": [
    "print(pd.merge(df1,df2,on=\"emp id\",how=\"left\")) #---> it means left table ka sara data aa jayega or jo data data right table me h , agar wo match nhi kr rha h left table se to usme NaN aa jayega"
   ]
  },
  {
   "cell_type": "code",
   "execution_count": 10,
   "id": "4a2fb469-1311-4b56-a61b-9b86ffcee086",
   "metadata": {},
   "outputs": [
    {
     "name": "stdout",
     "output_type": "stream",
     "text": [
      "  emp id   names   age  salary\n",
      "0    E01     ram  34.0   45000\n",
      "1    E07     NaN   NaN   56000\n",
      "2    E03   rahul  23.0   34000\n",
      "3    E04  cishal  44.0   30000\n",
      "4    E08     NaN   NaN   50000\n",
      "5    E06    john  59.0   62000\n"
     ]
    }
   ],
   "source": [
    "print(pd.merge(df1,df2,on=\"emp id\",how=\"right\")) "
   ]
  },
  {
   "cell_type": "code",
   "execution_count": 16,
   "id": "46caaead-b4b6-4059-a68a-7060bd006941",
   "metadata": {},
   "outputs": [
    {
     "name": "stdout",
     "output_type": "stream",
     "text": [
      "  emp id   names  age\n",
      "0    E01     ram   34\n",
      "1    E02   shyam   56\n",
      "2    E03   rahul   23\n",
      "3    E04  cishal   44\n",
      "4    E05    ravi   32\n",
      "5    E06    john   59\n",
      "0    E07   biitu   34\n",
      "1    E08  chintu   56\n",
      "2    E09   poppu   23\n",
      "3    E10   chotu   44\n",
      "4    E11   bunty   32\n",
      "5    E12    goli   59\n"
     ]
    }
   ],
   "source": [
    "# concatenate-- merge two data (put below each other                           )\n",
    "\n",
    "data1 = {\"emp id\": [\"E01\", \"E02\", \"E03\", \"E04\", \"E05\", \"E06\"],\n",
    "         \"names\": [\"ram\", \"shyam\", \"rahul\", \"cishal\", \"ravi\", \"john\"],\n",
    "         \"age\": [34, 56, 23, 44, 32,59]}\n",
    "\n",
    "data2 = {\"emp id\": [\"E07\", \"E08\", \"E09\", \"E10\", \"E11\", \"E12\"],\n",
    "         \"names\": [\"biitu\", \"chintu\", \"poppu\", \"chotu\", \"bunty\", \"goli\"],\n",
    "         \"age\": [34, 56, 23, 44, 32,59]}\n",
    "\n",
    "df1=pd.DataFrame(data1)\n",
    "df2=pd.DataFrame(data2)\n",
    "\n",
    "print(pd.concat([df1,df2]))"
   ]
  },
  {
   "cell_type": "code",
   "execution_count": 22,
   "id": "5db1ad3b-0e00-4530-b301-29dfe3a44f7b",
   "metadata": {},
   "outputs": [
    {
     "name": "stdout",
     "output_type": "stream",
     "text": [
      "    fruits  price  Quantity\n",
      "0  mangoes    100        15\n",
      "1   apples    150        10\n",
      "2   banana     50        10\n",
      "3   papaya     35         3\n",
      "    fruits  price  Quantity\n",
      "0  mangoes    120        12\n",
      "1   apples    175        15\n",
      "2   banana     50        10\n",
      "3   papaya     30         5\n",
      "   price        Quantity      \n",
      "    self  other     self other\n",
      "0  100.0  120.0     15.0  12.0\n",
      "1  150.0  175.0     10.0  15.0\n",
      "3   35.0   30.0      3.0   5.0\n",
      "         price  Quantity\n",
      "0 self   100.0      15.0\n",
      "  other  120.0      12.0\n",
      "1 self   150.0      10.0\n",
      "  other  175.0      15.0\n",
      "3 self    35.0       3.0\n",
      "  other   30.0       5.0\n",
      "  fruits        price        Quantity      \n",
      "    self other   self  other     self other\n",
      "0    NaN   NaN  100.0  120.0     15.0  12.0\n",
      "1    NaN   NaN  150.0  175.0     10.0  15.0\n",
      "2    NaN   NaN    NaN    NaN      NaN   NaN\n",
      "3    NaN   NaN   35.0   30.0      3.0   5.0\n"
     ]
    }
   ],
   "source": [
    "# pandas ,  compare dataframes\n",
    "\n",
    "import pandas as pd\n",
    "dict={\"fruits\":[\"mangoes\",\"apples\",\"banana\",\"papaya\"],\n",
    "      \"price\":[100,150,50,35],\n",
    "     \"Quantity\": [15,10,10,3]}\n",
    "df1=pd.DataFrame(dict)\n",
    "print(df1)\n",
    "\n",
    "# after one month, price and quantity changes\n",
    "df2=df1.copy()\n",
    "df2.loc[0,\"price\"]=120\n",
    "df2.loc[1,\"price\"]=175\n",
    "df2.loc[3,\"price\"]=30\n",
    "df2.loc[0,\"Quantity\"]=12\n",
    "df2.loc[1,\"Quantity\"]=15\n",
    "df2.loc[3,\"Quantity\"]=5\n",
    "print(df2)\n",
    "print(df1.compare(df2))\n",
    "\n",
    "print(df1.compare(df2,align_axis=0)) \n",
    "# print(df1.compare(df2,keep_shape=True))\n",
    "print(df1.compare(df2,keep_shape=True)) \n",
    "\n",
    "\n"
   ]
  }
 ],
 "metadata": {
  "kernelspec": {
   "display_name": "Python 3 (ipykernel)",
   "language": "python",
   "name": "python3"
  },
  "language_info": {
   "codemirror_mode": {
    "name": "ipython",
    "version": 3
   },
   "file_extension": ".py",
   "mimetype": "text/x-python",
   "name": "python",
   "nbconvert_exporter": "python",
   "pygments_lexer": "ipython3",
   "version": "3.13.5"
  }
 },
 "nbformat": 4,
 "nbformat_minor": 5
}
