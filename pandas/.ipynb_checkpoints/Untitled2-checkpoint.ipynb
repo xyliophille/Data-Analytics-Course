{
 "cells": [
  {
   "cell_type": "code",
   "execution_count": null,
   "id": "3b8f2156-aad5-4d73-ac2e-0ce9b2c03ff4",
   "metadata": {},
   "outputs": [],
   "source": [
    " # Handling duplicate values in  pandas\n",
    "\n",
    "import pandas as pd\n",
    "data=pd.read_csv(\"\")\n",
    "print(data)\n",
    "\n",
    "# to find whether thereis duplicate data or not?\n",
    "print(data[\"EEID\"].duplicated()) #it tells/returns in true or false , EEID-emploey id\n",
    "print(data[\"EEID\"].duplicated().sum()) #it returns in  how many duplicate value is present in it\n",
    "# Note:- we always prefer special columns, i.e - id columns , to identitify the duplicate \n",
    "\n",
    "#  to resolve it- \n",
    "print(data.drop_duplicates(\"EEID\")) #it remove the duplicate columns by writing special id ,i.e  column\n",
    "\n",
    "\n",
    "\n"
   ]
  },
  {
   "cell_type": "code",
   "execution_count": null,
   "id": "70a16f3f-fd01-4b13-8090-891e3d5b4ac4",
   "metadata": {},
   "outputs": [],
   "source": [
    " # Handling null values:=-\n",
    "\n",
    "import pandas as pd\n",
    "data = pd.read_csv(\"\")\n",
    "print(\"data\")\n",
    "\n",
    "\n",
    "# to  check whether there is null value present in it or not?\n",
    "print(data.isnull().sum)\n",
    "\n",
    "# delete null value(NaN)\n",
    "print (data.dropna())\n",
    "\n",
    "# replace null value(NaN)\n",
    "\n",
    "# print(data.replace(np.nan,\"hi\"))\n",
    "# print(data.replace(np.nan,30000))\n",
    "\n",
    "\n",
    "# change replace value from other columns\n",
    "data[\"salary\"]= data[\"salary\"].replace(np.nan,30000)\n",
    "print(data)\n",
    "\n",
    "# to handle data without change it, we first find its mean and then put it in NaN place , so that there would no change takes place in it\n",
    "print(data[\"salary\"].mean())#----> to find mean \n",
    "\n",
    "\n",
    "\n",
    "#  yo fill the other section like gender,name etc.., we switch the upper or lower value to NaN position\n",
    "# print(data.fillna(method=\"ffill\")) --> ff/ bf= forward or backward fill\n",
    "# print(data.fillna(method=\"bfill\"))"
   ]
  }
 ],
 "metadata": {
  "kernelspec": {
   "display_name": "Python 3 (ipykernel)",
   "language": "python",
   "name": "python3"
  },
  "language_info": {
   "codemirror_mode": {
    "name": "ipython",
    "version": 3
   },
   "file_extension": ".py",
   "mimetype": "text/x-python",
   "name": "python",
   "nbconvert_exporter": "python",
   "pygments_lexer": "ipython3",
   "version": "3.13.5"
  }
 },
 "nbformat": 4,
 "nbformat_minor": 5
}
