{
 "cells": [
  {
   "cell_type": "code",
   "execution_count": 10,
   "id": "585e9d9e-ce49-4c97-a501-db9a0854738b",
   "metadata": {},
   "outputs": [
    {
     "name": "stdout",
     "output_type": "stream",
     "text": [
      "  keys  names houses\n",
      "0   k1   john    red\n",
      "1   k2    ben   blue\n",
      "2   k1  david  green\n",
      "3   k2  peter    red\n"
     ]
    },
    {
     "ename": "TypeError",
     "evalue": "DataFrame.pivot() takes 1 positional argument but 4 were given",
     "output_type": "error",
     "traceback": [
      "\u001b[31m---------------------------------------------------------------------------\u001b[39m",
      "\u001b[31mTypeError\u001b[39m                                 Traceback (most recent call last)",
      "\u001b[36mCell\u001b[39m\u001b[36m \u001b[39m\u001b[32mIn[10]\u001b[39m\u001b[32m, line 11\u001b[39m\n\u001b[32m      9\u001b[39m df= pd.DataFrame(\u001b[38;5;28mdict\u001b[39m)\n\u001b[32m     10\u001b[39m \u001b[38;5;28mprint\u001b[39m(df)\n\u001b[32m---> \u001b[39m\u001b[32m11\u001b[39m \u001b[38;5;28mprint\u001b[39m (\u001b[43mdf\u001b[49m\u001b[43m.\u001b[49m\u001b[43mpivot\u001b[49m\u001b[43m(\u001b[49m\u001b[33;43m\"\u001b[39;49m\u001b[33;43mkeys\u001b[39;49m\u001b[33;43m\"\u001b[39;49m\u001b[43m,\u001b[49m\u001b[33;43m\"\u001b[39;49m\u001b[33;43mnames\u001b[39;49m\u001b[33;43m\"\u001b[39;49m\u001b[43m,\u001b[49m\u001b[33;43m\"\u001b[39;49m\u001b[33;43mhouses\u001b[39;49m\u001b[33;43m\"\u001b[39;49m\u001b[43m)\u001b[49m)\n",
      "\u001b[31mTypeError\u001b[39m: DataFrame.pivot() takes 1 positional argument but 4 were given"
     ]
    }
   ],
   "source": [
    "# pandas, pivoting, and Melting DataFrames\n",
    "import pandas as pd \n",
    "\n",
    "dict={\"keys\":[\"k1\",\"k2\",\"k1\",\"k2\"],\n",
    "        \"names\": [\"john\", \"ben\", \"david\", \"peter\"],\n",
    "        \"houses\": [\"red\", \"blue\", \"green\", \"red\"]}\n",
    "\n",
    "# creating dataframe\n",
    "df= pd.DataFrame(dict)\n",
    "print(df)\n",
    "print (df.pivot(\"keys\",\"names\",\"houses\"))"
   ]
  },
  {
   "cell_type": "code",
   "execution_count": null,
   "id": "5fc83ece-5258-40ab-8fb6-b492cb0ae1c3",
   "metadata": {},
   "outputs": [],
   "source": []
  }
 ],
 "metadata": {
  "kernelspec": {
   "display_name": "Python 3 (ipykernel)",
   "language": "python",
   "name": "python3"
  },
  "language_info": {
   "codemirror_mode": {
    "name": "ipython",
    "version": 3
   },
   "file_extension": ".py",
   "mimetype": "text/x-python",
   "name": "python",
   "nbconvert_exporter": "python",
   "pygments_lexer": "ipython3",
   "version": "3.13.5"
  }
 },
 "nbformat": 4,
 "nbformat_minor": 5
}
