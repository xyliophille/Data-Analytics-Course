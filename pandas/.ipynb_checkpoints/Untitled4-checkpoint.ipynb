{
 "cells": [
  {
   "cell_type": "code",
   "execution_count": 5,
   "id": "ee2fb700-9e82-4ce7-a5d8-f811c0bcfc7e",
   "metadata": {},
   "outputs": [
    {
     "ename": "NameError",
     "evalue": "name 'file' is not defined",
     "output_type": "error",
     "traceback": [
      "\u001b[31m---------------------------------------------------------------------------\u001b[39m",
      "\u001b[31mNameError\u001b[39m                                 Traceback (most recent call last)",
      "\u001b[36mCell\u001b[39m\u001b[36m \u001b[39m\u001b[32mIn[5]\u001b[39m\u001b[32m, line 3\u001b[39m\n\u001b[32m      1\u001b[39m \u001b[38;5;28;01mimport\u001b[39;00m\u001b[38;5;250m \u001b[39m\u001b[34;01mpandas\u001b[39;00m\u001b[38;5;250m \u001b[39m\u001b[38;5;28;01mas\u001b[39;00m\u001b[38;5;250m \u001b[39m\u001b[34;01mpd\u001b[39;00m\n\u001b[32m      2\u001b[39m \u001b[38;5;66;03m# Groupby \u001b[39;00m\n\u001b[32m----> \u001b[39m\u001b[32m3\u001b[39m data=pd.read_excel(\u001b[43mfile\u001b[49m.xlsx)\n\u001b[32m      4\u001b[39m \u001b[38;5;66;03m# print(data.head(10))\u001b[39;00m\n\u001b[32m      5\u001b[39m \n\u001b[32m      6\u001b[39m \u001b[38;5;66;03m# gp=data.groupby(\"Department\").agg{(\"Gender\":\"count\")} #classify gender on the basis of departments\u001b[39;00m\n\u001b[32m      7\u001b[39m \u001b[38;5;66;03m# gp=data.groupby([\"Department\",\"Gender\"]).agg{(\"EEID\":\"count\")} #classify EEID on the basis of departments and male and female\u001b[39;00m\n\u001b[32m      8\u001b[39m \u001b[38;5;66;03m# print(gp)\u001b[39;00m\n\u001b[32m     10\u001b[39m gp1=data.groupby(\u001b[33m\"\u001b[39m\u001b[33mcountry\u001b[39m\u001b[33m\"\u001b[39m).agg({\u001b[33m\"\u001b[39m\u001b[33mannual salary\u001b[39m\u001b[33m\"\u001b[39m:\u001b[33m\"\u001b[39m\u001b[33mmax\u001b[39m\u001b[33m\"\u001b[39m})\n",
      "\u001b[31mNameError\u001b[39m: name 'file' is not defined"
     ]
    }
   ],
   "source": [
    "import pandas as pd\n",
    "# Groupby \n",
    "data=pd.read_excel(file.xlsx)\n",
    "# print(data.head(10))\n",
    "\n",
    "# gp=data.groupby(\"Department\").agg{(\"Gender\":\"count\")} #classify gender on the basis of departments\n",
    "# gp=data.groupby([\"Department\",\"Gender\"]).agg{(\"EEID\":\"count\")} #classify EEID on the basis of departments and male and female\n",
    "# print(gp)\n",
    "\n",
    "gp1=data.groupby(\"country\").agg({\"annual salary\":\"max\"}) # annual average salary of each country\n",
    "print(gp1)"
   ]
  },
  {
   "cell_type": "code",
   "execution_count": 68,
   "id": "31f3499a-b1ea-48b7-b49f-5f7aad6ae7b7",
   "metadata": {},
   "outputs": [
    {
     "name": "stdout",
     "output_type": "stream",
     "text": [
      "  emp id   names  age\n",
      "0    E01     ram   34\n",
      "1    E02   shyam   56\n",
      "2    E03   rahul   23\n",
      "3    E04  cishal   44\n",
      "4    E05    ravi   32\n",
      "5    E06    john   59\n",
      "\n",
      "  emp id  salary\n",
      "0    E01   45000\n",
      "1    E02   56000\n",
      "2    E03   34000\n",
      "3    E04   30000\n",
      "4    E05   50000\n",
      "5    E06   62000\n"
     ]
    }
   ],
   "source": [
    "# import pandas as pd\n",
    "# merge , join and concatenate in pandas\n",
    "data1 = {\"emp id\": [\"E01\", \"E02\", \"E03\", \"E04\", \"E05\", \"E06\"],\n",
    "         \"names\": [\"ram\", \"shyam\", \"rahul\", \"cishal\", \"ravi\", \"john\"],\n",
    "         \"age\": [34, 56, 23, 44, 32,59]}\n",
    "\n",
    "data2 = {\"emp id\": [\"E01\", \"E02\", \"E03\", \"E04\", \"E05\", \"E06\"],\n",
    "         \"salary\": [45000, 56000, 34000, 30000, 50000, 62000]}\n",
    "\n",
    "\n",
    "\n",
    "df1=pd.DataFrame(data1)\n",
    "df2=pd.DataFrame(data2)\n",
    "\n",
    "print(df1)\n",
    "print()\n",
    "print(df2)\n"
   ]
  },
  {
   "cell_type": "code",
   "execution_count": 69,
   "id": "fe9d516a-b994-4da9-b149-b699efcc476b",
   "metadata": {},
   "outputs": [
    {
     "name": "stdout",
     "output_type": "stream",
     "text": [
      "  emp id   names  age  salary\n",
      "0    E01     ram   34   45000\n",
      "1    E02   shyam   56   56000\n",
      "2    E03   rahul   23   34000\n",
      "3    E04  cishal   44   30000\n",
      "4    E05    ravi   32   50000\n",
      "5    E06    john   59   62000\n"
     ]
    }
   ],
   "source": [
    "print(pd.merge(df1,df2,on=\"emp id\")) #here emp id is common in both these df. \n"
   ]
  }
 ],
 "metadata": {
  "kernelspec": {
   "display_name": "Python 3 (ipykernel)",
   "language": "python",
   "name": "python3"
  },
  "language_info": {
   "codemirror_mode": {
    "name": "ipython",
    "version": 3
   },
   "file_extension": ".py",
   "mimetype": "text/x-python",
   "name": "python",
   "nbconvert_exporter": "python",
   "pygments_lexer": "ipython3",
   "version": "3.13.5"
  }
 },
 "nbformat": 4,
 "nbformat_minor": 5
}
