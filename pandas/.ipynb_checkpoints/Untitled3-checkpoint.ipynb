{
 "cells": [
  {
   "cell_type": "code",
   "execution_count": null,
   "id": "fc388377-d181-4a62-8bbf-4fc9ce588069",
   "metadata": {},
   "outputs": [],
   "source": [
    "import pandas as pd\n",
    "df= pd.read_excel(\"\")\n",
    "# print(df)\n",
    "\n",
    "# to check how many emplyees gets bonus or not? (loc=location)\n",
    "# df.loc[(df[\"Bonus%\"]==0),\"GetBonus\"]=\"no bonus\"\n",
    "# df.loc[(df[\"Bonus%\"]>0, \"GetBonus\")]=\"bonus\"\n",
    "# print(df.head(10))\n",
    "\n",
    "# on joing two names , and place it in one column\n",
    "data=pd.read_excel(\"file.xlsx\")\n",
    "print(data)\n",
    "\n",
    "# data[\"ful name\"]= data[first name]+ \" \" + data[last name]\n",
    "data[\"ful name\"]= data[first name].str.capitalize()+ \" \" + data[last name].str.capitalize()\n",
    "print(data)\n",
    "\n",
    "\n"
   ]
  },
  {
   "cell_type": "code",
   "execution_count": null,
   "id": "cf1b80a0-3fac-459f-bee7-6b4736fa2f9a",
   "metadata": {},
   "outputs": [],
   "source": [
    "import pandas as pd\n",
    "\n",
    "data=pd.read_excel(\"file.xlsx\")\n",
    "print(data)\n",
    "\n",
    "data[\"bonus\"]= (data[\"salary\"]/100)*20\n",
    "print(data)"
   ]
  },
  {
   "cell_type": "code",
   "execution_count": 10,
   "id": "32a0453c-d681-46c6-b395-6ee0bb248001",
   "metadata": {},
   "outputs": [
    {
     "name": "stdout",
     "output_type": "stream",
     "text": [
      "     months\n",
      "0   january\n",
      "1  february\n",
      "2     march\n",
      "3     april\n",
      "     months short_months\n",
      "0   january          jan\n",
      "1  february          feb\n",
      "2     march          mar\n",
      "3     april          apr\n"
     ]
    }
   ],
   "source": [
    "import pandas as pd\n",
    "\n",
    "\n",
    "# removing first three letters frim each month name\n",
    "data={\"months\":[\"january\",\"february\",\"march\",\"april\"]}\n",
    "\n",
    "a=pd.DataFrame(data)\n",
    "print(a)\n",
    "def extract(value):\n",
    "    return value[0:3]\n",
    "\n",
    "a[\"short_months\"]= a[\"months\"].map(extract)\n",
    "print(a)"
   ]
  },
  {
   "cell_type": "code",
   "execution_count": null,
   "id": "150e0325-adcc-48e2-b574-c380dfa93812",
   "metadata": {},
   "outputs": [],
   "source": []
  }
 ],
 "metadata": {
  "kernelspec": {
   "display_name": "Python 3 (ipykernel)",
   "language": "python",
   "name": "python3"
  },
  "language_info": {
   "codemirror_mode": {
    "name": "ipython",
    "version": 3
   },
   "file_extension": ".py",
   "mimetype": "text/x-python",
   "name": "python",
   "nbconvert_exporter": "python",
   "pygments_lexer": "ipython3",
   "version": "3.13.5"
  }
 },
 "nbformat": 4,
 "nbformat_minor": 5
}
