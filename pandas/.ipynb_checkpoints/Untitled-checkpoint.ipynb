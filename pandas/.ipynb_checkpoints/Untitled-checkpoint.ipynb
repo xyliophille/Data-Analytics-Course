{
 "cells": [
  {
   "cell_type": "code",
   "execution_count": 19,
   "id": "a9a0b367-59e1-478b-ac9e-2eea557a13d5",
   "metadata": {},
   "outputs": [
    {
     "name": "stdout",
     "output_type": "stream",
     "text": [
      "    Name  Age  salary\n",
      "0   john   25      30\n",
      "1  peter   28      45\n",
      "2   lisa   31      25\n"
     ]
    }
   ],
   "source": [
    "import pandas as pd\n",
    "data = {\"Name\":[\"john\",\"peter\",\"lisa\"],\n",
    "       \"Age\": [25,28,31],\n",
    "        \"salary\":[30,45,25]}\n",
    "        \n",
    "        \n",
    "df = pd.DataFrame(data)\n",
    "print(df)"
   ]
  },
  {
   "cell_type": "code",
   "execution_count": null,
   "id": "db723074-164c-49db-80df-51a5ca233871",
   "metadata": {},
   "outputs": [],
   "source": [
    "# calling/reading csv file\n",
    "data=pd.read_csv(\"\") #(\"location of the file is needed\") i.e:- example.csv , bring the file in the pandas folder/file\n",
    "print(data)                                            "
   ]
  },
  {
   "cell_type": "code",
   "execution_count": 52,
   "id": "523b1b21-083b-4302-9bf0-eecafca60b2c",
   "metadata": {},
   "outputs": [
    {
     "name": "stdout",
     "output_type": "stream",
     "text": [
      "    Unnamed: 0               Unnamed: 1               Unnamed: 2   Unnamed: 3  \\\n",
      "0          NaN        Excel Sample Data                      NaN          NaN   \n",
      "1          NaN                      NaN                      NaN          NaN   \n",
      "2          NaN  Project Management Data                      NaN          NaN   \n",
      "3          NaN                      NaN                      NaN          NaN   \n",
      "4          NaN             Project Name                Task Name  Assigned to   \n",
      "5          NaN                Marketing          Market Research        Alice   \n",
      "6          NaN                Marketing         Content Creation          Bob   \n",
      "7          NaN                Marketing    Social Media Planning      Charlie   \n",
      "8          NaN                Marketing        Campaign Analysis        Daisy   \n",
      "9          NaN              Product Dev    Prototype Development        Ethan   \n",
      "10         NaN              Product Dev        Quality Assurance        Fiona   \n",
      "11         NaN              Product Dev    User Interface Design      Gabriel   \n",
      "12         NaN             Customer Svc      Service Improvement       Hannah   \n",
      "13         NaN             Customer Svc        Ticket Resolution          Ian   \n",
      "14         NaN             Customer Svc        Customer Feedback        Julia   \n",
      "15         NaN                Financial          Budget Analysis        Kevin   \n",
      "16         NaN                Financial      Financial Reporting         Mark   \n",
      "17         NaN                Financial      Investment Planning         Mark   \n",
      "18         NaN                 Research   Market Trends Analysis       Nathan   \n",
      "19         NaN                 Research          Data Collection       Olivia   \n",
      "20         NaN                 Research   Research Paper Writing        Peter   \n",
      "21         NaN              Development     Software Development        Quinn   \n",
      "22         NaN              Development      Feature Enhancement       Rachel   \n",
      "23         NaN              Development              Code Review          Sam   \n",
      "24         NaN               Production            Manufacturing          Tim   \n",
      "25         NaN               Production          Quality Control       Ursula   \n",
      "26         NaN               Production         Packaging Design       Victor   \n",
      "27         NaN                    Sales          Lead Generation        Wendy   \n",
      "28         NaN                    Sales          Client Meetings       Xavier   \n",
      "29         NaN                    Sales     Contract Negotiation       Yvette   \n",
      "30         NaN                  Support        Technical Support          Zoe   \n",
      "31         NaN                  Support                Bug Fixes        Aaron   \n",
      "32         NaN                  Support         Software Updates        Bella   \n",
      "33         NaN               Operations     Process Optimization       Calvin   \n",
      "34         NaN               Operations     Inventory Management        Diane   \n",
      "35         NaN               Operations     Facility Maintenance       Edward   \n",
      "36         NaN               Consulting       Strategic Planning        Fiona   \n",
      "37         NaN               Consulting         Market Expansion         Gary   \n",
      "38         NaN               Consulting          Client Advisory        Helen   \n",
      "39         NaN                 Training        Employee Training        Isaac   \n",
      "40         NaN                 Training   Certification Programs         Jane   \n",
      "41         NaN                 Training        Skill Development         Kyle   \n",
      "42         NaN                   Events           Event Planning        Laura   \n",
      "43         NaN                   Events    Conference Management         Mike   \n",
      "44         NaN                   Events  Sponsorship Coordinatio      n Nancy   \n",
      "45         NaN                Logistics  Supply Chain Management        Oscar   \n",
      "46         NaN                Logistics  Transportation Planning     Patricia   \n",
      "47         NaN                Logistics   Inventory Optimization      Quentin   \n",
      "48         NaN              Engineering           Product Design       Rachel   \n",
      "49         NaN              Engineering       System Integration          Sam   \n",
      "50         NaN              Engineering        Prototype Testing          Tom   \n",
      "\n",
      "             Unnamed: 4     Unnamed: 5           Unnamed: 6 Unnamed: 7  \n",
      "0                   NaN            NaN                  NaN        NaN  \n",
      "1                   NaN            NaN                  NaN        NaN  \n",
      "2                   NaN            NaN                  NaN        NaN  \n",
      "3                   NaN            NaN                  NaN        NaN  \n",
      "4            Start Date  Days Required             End Date   Progress  \n",
      "5   2024-01-01 00:00:00             13  2024-01-14 00:00:00       0.78  \n",
      "6   2024-01-14 00:00:00             14  2024-01-28 00:00:00          1  \n",
      "7   2024-01-28 00:00:00             22  2024-02-19 00:00:00       0.45  \n",
      "8   2024-02-18 00:00:00             25  2024-03-14 00:00:00          0  \n",
      "9   2024-01-02 00:00:00             18  2024-01-20 00:00:00          1  \n",
      "10  2024-01-20 00:00:00             10  2024-01-30 00:00:00       0.78  \n",
      "11  2024-02-04 00:00:00             25  2024-02-29 00:00:00          0  \n",
      "12  2024-02-01 00:00:00             22  2024-02-23 00:00:00          1  \n",
      "13  2024-02-24 00:00:00             25  2024-03-20 00:00:00          1  \n",
      "14  2024-03-21 00:00:00             30  2024-04-20 00:00:00          0  \n",
      "15  2024-02-02 00:00:00             22  2024-02-24 00:00:00        0.1  \n",
      "16  2024-02-13 00:00:00             21  2024-02-09 00:00:00       0.78  \n",
      "17  2024-03-19 00:00:00             25  2024-04-13 00:00:00          1  \n",
      "18  2024-01-02 00:00:00             23  2024-01-25 00:00:00        0.5  \n",
      "19  2024-01-26 00:00:00             32  2024-02-27 00:00:00          0  \n",
      "20  2024-02-28 00:00:00             27  2024-03-26 00:00:00          0  \n",
      "21  2024-01-02 00:00:00             36  2024-02-07 00:00:00          1  \n",
      "22  2024-02-08 00:00:00             34  2024-03-13 00:00:00          0  \n",
      "23  2024-03-14 00:00:00             30  2024-04-13 00:00:00          0  \n",
      "24  2024-01-03 00:00:00             47  2024-02-19 00:00:00        0.3  \n",
      "25  2024-02-17 00:00:00             27  2024-03-15 00:00:00          0  \n",
      "26  2024-03-14 00:00:00             22  2024-04-05 00:00:00          0  \n",
      "27  2024-01-03 00:00:00             60  2024-03-03 00:00:00        0.7  \n",
      "28  2024-01-06 00:00:00             20  2024-01-26 00:00:00       0.78  \n",
      "29  2024-02-03 00:00:00             35  2024-03-09 00:00:00          0  \n",
      "30  2024-01-01 00:00:00             25  2024-01-26 00:00:00          1  \n",
      "31  2024-01-27 00:00:00             31  2024-02-27 00:00:00          1  \n",
      "32  2024-03-02 00:00:00             22  2024-03-24 00:00:00          0  \n",
      "33  2024-01-03 00:00:00             30  2024-02-02 00:00:00        0.4  \n",
      "34  2024-02-03 00:00:00             25  2024-02-28 00:00:00          0  \n",
      "35  2024-02-29 00:00:00             20  2024-03-20 00:00:00          0  \n",
      "36  2024-01-02 00:00:00             35  2024-02-06 00:00:00        0.6  \n",
      "37  2024-02-02 00:00:00             32  2024-03-05 00:00:00          0  \n",
      "38  2024-03-06 00:00:00             25  2024-03-31 00:00:00          0  \n",
      "39  2024-01-04 00:00:00             27  2024-01-31 00:00:00        0.8  \n",
      "40  2024-01-28 00:00:00             30  2024-02-27 00:00:00          0  \n",
      "41  2024-02-28 00:00:00             22  2024-03-21 00:00:00          0  \n",
      "42  2024-01-03 00:00:00             25  2024-01-28 00:00:00        0.3  \n",
      "43  2024-02-03 00:00:00             20  2024-02-23 00:00:00          0  \n",
      "44  2024-02-24 00:00:00             35  2024-03-30 00:00:00          0  \n",
      "45  2024-01-03 00:00:00             25  2024-01-28 00:00:00        0.5  \n",
      "46  2024-01-29 00:00:00             30  2024-02-28 00:00:00          1  \n",
      "47  2024-03-29 00:00:00             20  2024-04-18 00:00:00          0  \n",
      "48  2024-01-02 00:00:00             25  2024-01-27 00:00:00        0.2  \n",
      "49  2024-02-02 00:00:00             22  2024-02-24 00:00:00          0  \n",
      "50  2024-02-23 00:00:00             27  2024-03-21 00:00:00          0  \n"
     ]
    }
   ],
   "source": [
    "# calling/reading excel file\n",
    "import pandas as pd\n",
    "\n",
    "data = pd.read_excel(\"C:\\\\Users\\\\ayush\\\\OneDrive\\\\Desktop\\\\python data analytics file\\\\pandas\\\\expense.xlsx\") #(\"location of the file is needed\") i.e:- example.xlsx , bring the file in the pandas folder/file\n",
    "print(data)"
   ]
  },
  {
   "cell_type": "code",
   "execution_count": null,
   "id": "4386c8c7-e067-4384-b537-da19763f5172",
   "metadata": {},
   "outputs": [],
   "source": []
  }
 ],
 "metadata": {
  "kernelspec": {
   "display_name": "Python 3 (ipykernel)",
   "language": "python",
   "name": "python3"
  },
  "language_info": {
   "codemirror_mode": {
    "name": "ipython",
    "version": 3
   },
   "file_extension": ".py",
   "mimetype": "text/x-python",
   "name": "python",
   "nbconvert_exporter": "python",
   "pygments_lexer": "ipython3",
   "version": "3.13.5"
  }
 },
 "nbformat": 4,
 "nbformat_minor": 5
}
